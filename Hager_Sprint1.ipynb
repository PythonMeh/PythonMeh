{
 "cells": [
  {
   "cell_type": "code",
   "execution_count": 115,
   "id": "229d0237-7ec7-45b3-a0ec-577d863d63b1",
   "metadata": {},
   "outputs": [],
   "source": [
    "import os \n",
    "import pandas as pd\n",
    "import numpy as np"
   ]
  },
  {
   "cell_type": "markdown",
   "id": "792b95f3-ab92-401a-a34f-139ca9e90518",
   "metadata": {
    "jp-MarkdownHeadingCollapsed": true,
    "tags": []
   },
   "source": [
    "## Files donwload"
   ]
  },
  {
   "cell_type": "code",
   "execution_count": 116,
   "id": "74fc79ae-4a1a-421c-bd80-b55cf90947f3",
   "metadata": {},
   "outputs": [
    {
     "name": "stderr",
     "output_type": "stream",
     "text": [
      "C:\\Users\\myedroud\\Anaconda3\\lib\\site-packages\\IPython\\core\\interactiveshell.py:3444: DtypeWarning: Columns (62,64,65,66,67,68,70,71,72,74,75,76,77,78,79,80,81,82,83,84,85,100,105,106,109,110,111,116,117,118,123,129) have mixed types.Specify dtype option on import or set low_memory=False.\n",
      "  exec(code_obj, self.user_global_ns, self.user_ns)\n"
     ]
    }
   ],
   "source": [
    "\n",
    "path_concat=r\"../../Project Hager/Fichiers Hager/Dataset_Creation/output-data/Impedance_dataset.csv\"\n",
    "path_hager=r\"../../Project Hager/Fichiers Hager/Impedance_Datasets/Impédance par lot.xlsx\"\n",
    "\n",
    "df_lot_hager= pd.read_excel(path_hager, \"Récapitulatif\")\n",
    "df_lot_concat = pd.read_csv(path_concat, sep=',')\n",
    "\n",
    "path_tracability=r\"../../Project Hager/Fichiers Hager/Dataset_Creation/output-data/TracabiliteDesLots_2020_2022.csv\"\n",
    "df_tracability = pd.read_csv(path_tracability, sep=',')\n"
   ]
  },
  {
   "cell_type": "markdown",
   "id": "af00bc36-9fd9-4e79-bda7-9df781f01d65",
   "metadata": {
    "jp-MarkdownHeadingCollapsed": true,
    "tags": []
   },
   "source": [
    "## Columns info"
   ]
  },
  {
   "cell_type": "code",
   "execution_count": 3,
   "id": "e379828f-15c2-493c-a36e-ab9ea83ee577",
   "metadata": {},
   "outputs": [
    {
     "name": "stdout",
     "output_type": "stream",
     "text": [
      "20\n",
      "68\n",
      "130\n",
      "84\n",
      "Parameters that are in both ['Aimant', 'Palette', 'Armature', 'C'] \n",
      " \n",
      "\n",
      "{'qu sortie SB', 'DFil1', 'Type', 'Capot', 'Ressort', 'DFil2', 'Socle', 'Support', 'Carcasse', 'Poussoir'}\n",
      "\n",
      " \n",
      " first set{'Aspect', 'Ligne_Tracabilité', 'Moyenne de Etendue AB', 'DFil1', 'Actions', 'Palette_y', 'X11', 'Support', 'Socle', 'Moyenne', 'Moyenne de Médiane GSP-PSP', 'Carcasse', 'Armature_y', 'X lcl', 'dérogation', 'AR1', 'Finition', 'X10', 'X3', 'Moyenne de Médiane AB', 'Date_hauteur', 'type', 'qu sortie SB', 'X5', 'Rugosite', 'X2', 'AR5', 'Date_keyence', 'R ucl', 'X4', 'Type', 'Poussoir', 'info qualité', 'Equipe', 'C_tracabilite', 'X9', 'X12', 'ET', 'AR4', 'Date_mesure', 'Moyenne de la série', 'Min', 'type de contrôle', 'AR2', 'R lcl', 'Etendue', 'Date_tracabilite', 'MOY', 'X7', 'Correction', 'Aimant_y', 'X1', 'Ligne_mesure', 'Max', 'Capot', 'X ucl', 'Ressort', 'Palette.1', 'DFil2', 'AR3', 'Moyenne de Etendue GSP-PSP', 'X6', \"moyenne de l'étendu\", 'X8', 'Heure'}, \n",
      " \n",
      " second set {'Soudure Laser', 'Côte de 7', 'soudure US'} , \n",
      " \n",
      " third set {'Aimant', 'qu sortie SB', 'DFil1', 'Type', 'Palette', 'C', 'Capot', 'Ressort', 'Armature', 'DFil2', 'Socle', 'Support', 'Carcasse', 'Poussoir'}\n"
     ]
    }
   ],
   "source": [
    "\n",
    "hager_columns=set(df_lot_hager.columns);\n",
    "tracability_columns=set(df_tracability.columns);\n",
    "concat_columns=set(df_lot_concat.columns);\n",
    "\n",
    "print(len(tracability_columns))\n",
    "print(len(hager_columns))\n",
    "print(len(concat_columns))\n",
    "\n",
    "print(len(hager_columns.union(tracability_columns)))\n",
    "\n",
    "\n",
    "l1=[]\n",
    "diff=[]\n",
    "for i in list(hager_columns)+list(tracability_columns):\n",
    "    if i not in l1:\n",
    "        l1.append(i)\n",
    "    else:\n",
    "        diff.append(i)\n",
    "\n",
    "print(f'Parameters that are in both {diff} \\n \\n')\n",
    "\n",
    "d=concat_columns-hager_columns\n",
    "\n",
    "d1=hager_columns-concat_columns\n",
    "\n",
    "d2=tracability_columns.intersection(concat_columns)\n",
    "\n",
    "\n",
    "A=d.intersection(tracability_columns)\n",
    "\n",
    "print(A)\n",
    "\n",
    "print(f'\\n \\n first set{d}, \\n \\n second set {d1} , \\n \\n third set {d2}')\n"
   ]
  },
  {
   "cell_type": "markdown",
   "id": "4b41ac06-eabf-4cb9-b021-90f4f82fc06e",
   "metadata": {
    "jp-MarkdownHeadingCollapsed": true,
    "tags": []
   },
   "source": [
    "## Check column exists"
   ]
  },
  {
   "cell_type": "code",
   "execution_count": 4,
   "id": "5960305d-47f5-4bd0-98b1-cc70c2bd5853",
   "metadata": {},
   "outputs": [
    {
     "name": "stdout",
     "output_type": "stream",
     "text": [
      "True\n"
     ]
    }
   ],
   "source": [
    "print('date zone 2' in hager_columns)"
   ]
  },
  {
   "cell_type": "code",
   "execution_count": null,
   "id": "25717efe-e377-4f81-8e75-0a928d27ed0b",
   "metadata": {},
   "outputs": [],
   "source": []
  },
  {
   "cell_type": "markdown",
   "id": "ad9eae1a-76d7-42a9-9131-188df6bc377f",
   "metadata": {
    "jp-MarkdownHeadingCollapsed": true,
    "tags": []
   },
   "source": [
    "## Plot impédance par date zone 2"
   ]
  },
  {
   "cell_type": "code",
   "execution_count": 8,
   "id": "7961abc9-c7be-479b-aa05-24c97bf7ca81",
   "metadata": {},
   "outputs": [
    {
     "name": "stdout",
     "output_type": "stream",
     "text": [
      "<bound method NDFrame.head of        N° lot  Plage lot Ref Relais  Nb spires  EACAR  Année   Semaine  \\\n",
      "15       1001       1000     0Z5117      490.0      1   2012  S2012/01   \n",
      "16       1001       1000     0Z5117      490.0      1   2012  S2012/01   \n",
      "19       1001       1000     0Z5117      515.0      1   2013  S2013/02   \n",
      "22       1001       1000     0Z5117      515.0      1   2013  S2013/02   \n",
      "23       1001       1000     0Z5117      515.0      1   2014  S2014/02   \n",
      "...       ...        ...        ...        ...    ...    ...       ...   \n",
      "45821    6736       6000     0Z6117      595.0      4   2020  S2020/52   \n",
      "45824    6736       6000     0Z6117      595.0      4   2020  S2020/52   \n",
      "45842    6739       6000     0Z6117      535.0      4   2020  S2020/53   \n",
      "45844    6739       6000     0Z6117      535.0      4   2020  S2020/52   \n",
      "45853    6740       6000     0Z6117      535.0      4   2020  S2021/01   \n",
      "\n",
      "              Le  % de rebut global      ok  ...   Som Udemag²   Aimant  \\\n",
      "15    2012-01-05           0.031250    93.0  ...  2.087449e+06      NaN   \n",
      "16    2012-01-04           0.008180   485.0  ...  1.110987e+07      NaN   \n",
      "19    2013-01-08           0.044102  4400.0  ...  9.003900e+07      NaN   \n",
      "22    2013-01-07           0.031496   615.0  ...  1.256872e+07      NaN   \n",
      "23    2014-01-08           0.039427  2412.0  ...  5.039855e+07        -   \n",
      "...          ...                ...     ...  ...           ...      ...   \n",
      "45821 2020-12-22           0.035767  3936.0  ...  8.130016e+07      NaN   \n",
      "45824 2020-12-21           0.050562   169.0  ...  3.548098e+06      NaN   \n",
      "45842 2020-12-30           0.012500   158.0  ...  3.438403e+06      NaN   \n",
      "45844 2020-12-23           0.055271   923.0  ...  2.036157e+07      NaN   \n",
      "45853 2021-01-05           0.046045  6319.0  ...  1.275636e+08  Magneti   \n",
      "\n",
      "       Armature Palette  Côte de 7  soudure US  Soudure Laser  date zone 2  \\\n",
      "15        Hager     VAC        NaN         NaN            NaN          NaT   \n",
      "16        Hager     VAC        NaN         NaN            NaN          NaT   \n",
      "19        Hager     VAC        NaN         NaN            NaN          NaT   \n",
      "22        Hager     VAC        NaN         NaN            NaN          NaT   \n",
      "23        Hager     VAC        NaN         NaN            NaN          NaT   \n",
      "...         ...     ...        ...         ...            ...          ...   \n",
      "45821     Hager   Hager        NaN         NaN            NaN          NaT   \n",
      "45824     Hager   Hager        NaN         NaN            NaN          NaT   \n",
      "45842     Hager   Hager        NaN         NaN            NaN          NaT   \n",
      "45844     Hager   Hager        NaN         NaN            NaN          NaT   \n",
      "45853     Hager   Hager        NaN         NaN            NaN          NaT   \n",
      "\n",
      "       ressort  N° DL armature  \n",
      "15         NaN             NaN  \n",
      "16         NaN             NaN  \n",
      "19         NaN             NaN  \n",
      "22         NaN             NaN  \n",
      "23         NaN             NaN  \n",
      "...        ...             ...  \n",
      "45821      NaN             NaN  \n",
      "45824      NaN             NaN  \n",
      "45842      NaN             NaN  \n",
      "45844      NaN             NaN  \n",
      "45853      NaN             NaN  \n",
      "\n",
      "[20074 rows x 68 columns]>\n",
      "187.20000000000002\n"
     ]
    },
    {
     "data": {
      "text/plain": [
       "<AxesSubplot:xlabel='date zone 2'>"
      ]
     },
     "execution_count": 8,
     "metadata": {},
     "output_type": "execute_result"
    },
    {
     "data": {
      "image/png": "[encoded data removed]",
      "text/plain": [
       "<Figure size 432x288 with 1 Axes>"
      ]
     },
     "metadata": {
      "needs_background": "light"
     },
     "output_type": "display_data"
    }
   ],
   "source": [
    "import matplotlib.pyplot as plt\n",
    "plage= df_lot_hager[['Plage lot', 'Ref Relais']].copy()\n",
    "#dt_lot_filter= dt_lot[dt_lot['Plage lot'].isin([1000,6000]) & dt_lot['Ref Relais'].isin(['0Z5117', '0Z6117']) & dt_lot['Moy Z']<100 & dt_lot['Nb spires'].isin(range(400, 600))].copy()\n",
    "dt_lot_filter= df_lot_hager[df_lot_hager['Plage lot'].isin([1000,6000]) & df_lot_hager['Ref Relais'].isin(['0Z5117', '0Z6117'])].copy()\n",
    "#dt_lot_filter = dt_lot_filter[dt_lot_filter['Nb spires'].isin(range(400, 600))]\n",
    "print(dt_lot_filter.head)\n",
    "print(dt_lot_filter['Moy Z'].max())\n",
    "dt_lot_filter = dt_lot_filter.sort_values('date zone 2', ascending=True).reset_index(drop=True)\n",
    "\n",
    "FINAL=dt_lot_filter[['date zone 2', 'Moy Z']].groupby('date zone 2').mean().rolling(20).mean()\n",
    "FINAL.plot()\n",
    "\n",
    "\n",
    "\n"
   ]
  },
  {
   "cell_type": "markdown",
   "id": "e680eefd-acdc-4bf2-8ed3-3559d836cc61",
   "metadata": {
    "jp-MarkdownHeadingCollapsed": true,
    "tags": []
   },
   "source": [
    "## Plot impédance par date zone 3"
   ]
  },
  {
   "cell_type": "code",
   "execution_count": 11,
   "id": "7a4a773d-bda0-49f0-ab3d-81219fa2a0a6",
   "metadata": {},
   "outputs": [
    {
     "name": "stdout",
     "output_type": "stream",
     "text": [
      "66.18022351266183\n"
     ]
    },
    {
     "data": {
      "text/plain": [
       "<AxesSubplot:xlabel='Le'>"
      ]
     },
     "execution_count": 11,
     "metadata": {},
     "output_type": "execute_result"
    },
    {
     "data": {
      "image/png": "[encoded data removed]",
      "text/plain": [
       "<Figure size 432x288 with 1 Axes>"
      ]
     },
     "metadata": {
      "needs_background": "light"
     },
     "output_type": "display_data"
    }
   ],
   "source": [
    "import matplotlib.pyplot as plt\n",
    "plage= df_lot_hager[['Plage lot', 'Ref Relais']].copy()\n",
    "#dt_lot_filter= dt_lot[dt_lot['Plage lot'].isin([1000,6000]) & dt_lot['Ref Relais'].isin(['0Z5117', '0Z6117']) & dt_lot['Moy Z']<100 & dt_lot['Nb spires'].isin(range(400, 600))].copy()\n",
    "dt_lot_filter= df_lot_hager[df_lot_hager['Plage lot'].isin([1000,6000]) & df_lot_hager['Ref Relais'].isin(['0Z5117', '0Z6117']) & df_lot_hager['Nb spires'].isin(range(400,600)) ].copy()\n",
    "#dt_lot_filter = dt_lot_filter[dt_lot_filter['Nb spires'].isin(range(400, 600))]\n",
    "print(dt_lot_filter['Moy Z'].max())\n",
    "dt_lot_filter = dt_lot_filter.sort_values('Le', ascending=True).reset_index(drop=True)\n",
    "\n",
    "FINAL=dt_lot_filter[['Le', 'Moy Z']].groupby('Le').mean().rolling(10).mean()\n",
    "FINAL.plot()\n",
    "\n",
    "\n",
    "\n",
    "\n"
   ]
  },
  {
   "cell_type": "markdown",
   "id": "3f1903e4-bae9-4979-8f7f-cf4d1acf7211",
   "metadata": {
    "jp-MarkdownHeadingCollapsed": true,
    "tags": []
   },
   "source": [
    "## Columns "
   ]
  },
  {
   "cell_type": "code",
   "execution_count": null,
   "id": "73405b21-7e24-472a-b437-2cd52a0bd56f",
   "metadata": {},
   "outputs": [],
   "source": [
    "ls"
   ]
  },
  {
   "cell_type": "code",
   "execution_count": null,
   "id": "530acee0-2d37-41ad-9cb5-0e032f256ee3",
   "metadata": {},
   "outputs": [],
   "source": [
    "a={1,1,2,36,0,8,2}\n",
    "print(a)"
   ]
  },
  {
   "cell_type": "code",
   "execution_count": null,
   "id": "5de167ea-1b79-4371-9ee8-2be8e2f141ea",
   "metadata": {},
   "outputs": [],
   "source": [
    "path=r\"../../Project Hager/Fichiers Hager/Impedance_Datasets/parametre Zone2 SE PAL.xlsx\"\n",
    "\n",
    "df_hager= pd.read_excel(path, \"Data\")\n"
   ]
  },
  {
   "cell_type": "code",
   "execution_count": null,
   "id": "54346b30-417d-465e-ac6a-845becd10594",
   "metadata": {},
   "outputs": [],
   "source": [
    "df_hager.columns\n",
    "\n"
   ]
  },
  {
   "cell_type": "markdown",
   "id": "4dbb0ed1-df33-42d1-8d12-a7afcd885fea",
   "metadata": {
    "jp-MarkdownHeadingCollapsed": true,
    "tags": []
   },
   "source": [
    "## Non Nan stats "
   ]
  },
  {
   "cell_type": "code",
   "execution_count": 12,
   "id": "9f8e6006-eb6a-437b-be83-dd369dbdc98f",
   "metadata": {},
   "outputs": [
    {
     "name": "stdout",
     "output_type": "stream",
     "text": [
      "                    Total missing  % missing\n",
      "N° lot                          0   0.000000\n",
      "Plage lot                       0   0.000000\n",
      "Ref Relais                      1   0.002176\n",
      "Nb spires                       2   0.004352\n",
      "EACAR                           0   0.000000\n",
      "Année                           0   0.000000\n",
      "Semaine                         0   0.000000\n",
      "Le                              0   0.000000\n",
      "% de rebut global             277   0.602790\n",
      "ok                              6   0.013057\n",
      "A                               6   0.013057\n",
      "B                               6   0.013057\n",
      "C                               6   0.013057\n",
      "NOK                             6   0.013057\n",
      "F1                              7   0.015233\n",
      "F2                              7   0.015233\n",
      "F3                              7   0.015233\n",
      "F4                              7   0.015233\n",
      "F7                              7   0.015233\n",
      "Zmin                            6   0.013057\n",
      "Zmax                            7   0.015233\n",
      "Smin                            7   0.015233\n",
      "Smax                            7   0.015233\n",
      "Tmin                            7   0.015233\n",
      "Tmax                            7   0.015233\n",
      "Emin                            7   0.015233\n",
      "Emax                            7   0.015233\n",
      "Wmax                            7   0.015233\n",
      "Dmin                            7   0.015233\n",
      "Moy Sini                      309   0.672426\n",
      "EC Sini                       412   0.896568\n",
      "Eff Sini                        7   0.015233\n",
      "Som Sini                        7   0.015233\n",
      "Som Sini²                       7   0.015233\n",
      "Moy Z                         310   0.674602\n",
      "EC Z                          411   0.894392\n",
      "Eff Zini                        6   0.013057\n",
      "Som Zini                        6   0.013057\n",
      "Som Zini²                      28   0.060932\n",
      "Moy W                         302   0.657193\n",
      "EC W                          408   0.887864\n",
      "Eff W                           7   0.015233\n",
      "Som W                           7   0.015233\n",
      "Som W²                          7   0.015233\n",
      "Moy cos j                     302   0.657193\n",
      "EC cos j                      408   0.887864\n",
      "Eff cos j                       7   0.015233\n",
      "Som cos j                       7   0.015233\n",
      "Som cos² j                      7   0.015233\n",
      "Moy nb coups ajust            321   0.698540\n",
      "EC nb coups ajust             425   0.924858\n",
      "Eff nb cp                       7   0.015233\n",
      "Som nb cp                       7   0.015233\n",
      "Som nb cp²                      7   0.015233\n",
      "Moy Udemag                    321   0.698540\n",
      "EC Udemag                     425   0.924858\n",
      "Eff Udemag                      7   0.015233\n",
      "Som Udemag                      7   0.015233\n",
      "Som Udemag²                     7   0.015233\n",
      "Aimant                      25908  56.379344\n",
      "Armature                    12789  27.830610\n",
      "Palette                     17708  38.535025\n",
      "Côte de 7                   41450  90.200857\n",
      "soudure US                  41457  90.216090\n",
      "Soudure Laser               45515  99.046852\n",
      "date zone 2                 42361  92.183318\n",
      "ressort                     45495  99.003329\n",
      "N° DL armature              42465  92.409636\n"
     ]
    }
   ],
   "source": [
    "TTTT=r\"../../Project Hager/Fichiers Hager/Dataset_Creation/output-data/Impedance_dataset2.csv\"\n",
    "TTTTTT = pd.read_csv(TTTT, sep=',' , low_memory=False)\n",
    "#print(TTTTTT.isnull().sum())\n",
    "\n",
    "\n",
    "path_t=r\"../../Project Hager/Fichiers Hager/Dataset_Creation/output-data/2TracabiliteDesLots_2020_2021.csv\"\n",
    "df_t = pd.read_csv(path_tracability, sep=',')\n",
    "\n",
    "pd.set_option('display.max_rows', 68)\n",
    "\n",
    "a=df_lot_hager\n",
    "total_miss=a.isnull().sum()\n",
    "\n",
    "perc_miss = total_miss/a.isnull().count()*100\n",
    "df_summary = pd.DataFrame({'Total missing':total_miss, '% missing': perc_miss})\n",
    "print(df_summary)"
   ]
  },
  {
   "cell_type": "markdown",
   "id": "e5490951-53e8-420e-8f5e-7b2abb09e5df",
   "metadata": {
    "jp-MarkdownHeadingCollapsed": true,
    "tags": []
   },
   "source": [
    "## Filters "
   ]
  },
  {
   "cell_type": "code",
   "execution_count": 226,
   "id": "a090fc89-00fc-4bd6-93d6-a7052609ee77",
   "metadata": {},
   "outputs": [
    {
     "name": "stdout",
     "output_type": "stream",
     "text": [
      "Starting...\n",
      "Handling ../database/database_lot/input/Contrôle SE palette avec 2022.xlsx ...\n",
      "saved to ../database/database_lot/output/Contrôle SE palette avec 2022.csv\n",
      "Done handling ../database/database_lot/input/Contrôle SE palette avec 2022.xlsx ...\n",
      "Handling ../database/database_lot/input/Impédance par lot avec 2022.xlsx ...\n",
      "saved to ../database/database_lot/output/Impédance par lot avec 2022.csv\n",
      "Done handling ../database/database_lot/input/Impédance par lot avec 2022.xlsx ...\n",
      "Handling ../database/database_lot/input/paramètre Zone1 Hauteur et rugosité AR.xlsm ...\n",
      "saved to ../database/database_lot/output/paramètre Zone1 Hauteur et rugosité AR.csv\n",
      "Done handling ../database/database_lot/input/paramètre Zone1 Hauteur et rugosité AR.xlsm ...\n",
      "Handling ../database/database_lot/input/paramètre Zone2 KeyenceAIAR.xlsx ...\n"
     ]
    },
    {
     "name": "stderr",
     "output_type": "stream",
     "text": [
      "C:\\Users\\myedroud\\Anaconda3\\lib\\site-packages\\openpyxl\\worksheet\\_reader.py:211: UserWarning: Cell C1276 is marked as a date but the serial value 5092020 is outside the limits for dates. The cell will be treated as an error.\n",
      "  warn(msg)\n"
     ]
    },
    {
     "name": "stdout",
     "output_type": "stream",
     "text": [
      "saved to ../database/database_lot/output/paramètre Zone2 KeyenceAIAR.csv\n",
      "Done handling ../database/database_lot/input/paramètre Zone2 KeyenceAIAR.xlsx ...\n",
      "Handling ../database/database_lot/input/TracabiliteDesLots_2020_2022.csv ...\n",
      "saved to ../database/database_lot/output/TracabiliteDesLots_2020_2022.csv\n",
      "Done handling ../database/database_lot/input/TracabiliteDesLots_2020_2022.csv ...\n",
      "Done..!\n"
     ]
    }
   ],
   "source": [
    "# -*- coding: utf-8 -*-\n",
    "\n",
    "print (\"Starting...\")\n",
    "root=r'../database/database_lot/input/'\n",
    "output_root=r'../database/database_lot/output/'\n",
    "\n",
    "filters_dict={'Ref Relais': ['0Z5117','0Z6117'], 'Année':[2020,2021,2022] , 'Plage lot':[0,1000,6000], \n",
    "              'Moy Z':None , 'date zone 2':None, 'Date': pd.Timestamp(\"2020-01-01\")}  \n",
    "\n",
    "statistic_methods=['MOY','ETd', 'max','min', 'E_T','Médiane','IQR','Variance']\n",
    "name_mapper=['mean','ETd', 'max','min', 'std','median','IQR','var']\n",
    "\n",
    "def data_filter(df_data,filters):\n",
    "    df_data_filter=df_data.copy()\n",
    "    for key,val in filters_dict.items():\n",
    "        if key in filters:\n",
    "            if val is not None and type(val) is not pd.Timestamp :\n",
    "                df_data_filter=df_data_filter[(df_data_filter[key].isin(val))]\n",
    "            elif type(val) is pd.Timestamp:\n",
    "                df_data_filter=df_data_filter[(df_data_filter[key].astype('datetime64').dt.year>=2020)]\n",
    "            else: \n",
    "                df_data_filter=df_data_filter[(df_data_filter[key].notnull())]\n",
    "    #df_data_filter.info()\n",
    "    return df_data_filter\n",
    "def dataframe_statistics(df):\n",
    "    df_stat=df.agg(['mean','std','median','var','max','min'], axis=1)\n",
    "    df_stat['ETd']=df_stat['max']-df_stat['min']\n",
    "    df_stat['IQR']=df_stat.quantile(q=0.75,axis=1)-df_stat.quantile(q=0.25,axis=1)\n",
    "    return df_stat\n",
    "    \n",
    "def save_csv(df_data,path):\n",
    "    pre, _ = os.path.splitext(path)\n",
    "    path= pre+'.csv'\n",
    "    df_data.to_csv(path, sep=',', index=False, decimal=',', encoding='‘utf-8-sig') \n",
    "    print(f'saved to {path}')\n",
    "\n",
    "#columnsToDelete = [,'Unnamed: 0','N° DL','Rectif pal','Rectif Arm','Type Aimant','Nom_y','Nom_x','key_2']\n",
    "         \n",
    "for path,subdirs,files in os.walk(root):\n",
    "    for name in files:\n",
    "        file=os.path.join(path,name)\n",
    "        print(f'Handling {file} ...')\n",
    "        #if os.stat(file).st_size != 0:\n",
    "        \n",
    "        if 'Impédance' in file:\n",
    "            \n",
    "            df_data= pd.read_excel(file, \"Récapitulatif\")\n",
    "            df_data_filter=data_filter(df_data,['Ref Relais','Année','Plage lot','date zone 2','Moy Z'])\n",
    "            df_data_filter = df_data_filter.drop(columns = ['Côte de 7','soudure US',\n",
    "                                                            'Soudure Laser'])\n",
    "            save_csv(df_data_filter,os.path.join(output_root,name))\n",
    "        \n",
    "        elif 'Tracabilite' in file:\n",
    "            df_data = pd.read_csv(file)\n",
    "            df_data_filter=data_filter(df_data,['Date'])\n",
    "            df_data_filter = df_data_filter.drop(columns=['C','Type', 'Ressort', 'Ligne']).rename(columns={\"Palette\": \"Palette_tracabilite\",\n",
    "                                                            \"Aimant\":\"Aimant_tracabilite\",\n",
    "                                                            \"Armature\":\"Armature_tracabilite\",\n",
    "                                                            })\n",
    "            save_csv(df_data_filter,os.path.join(output_root,name))\n",
    "        elif 'SE palette' in file:\n",
    "            \n",
    "            df_data = pd.read_excel(file, 'Data')\n",
    "            df_filter=data_filter(df_data,['Date'])\n",
    "            \n",
    "            df_stat=dataframe_statistics(df_filter.loc[:,'X1':'X12'])\n",
    "            df_data_filter=pd.concat([df_filter,df_stat], axis=1)\n",
    "\n",
    "            for idx,s_i in enumerate(st_name):\n",
    "                df_data_filter['cote de 7_'+s_i]=df_data_filter[mapper[idx]][(df_data_filter['type de contrôle']=='cote de 7')]\n",
    "                df_data_filter['soudure US_'+s_i]=df_data_filter[mapper[idx]][(df_data_filter['type de contrôle']=='soudure US')]\n",
    "                df_data_filter['soudure laser_'+s_i]=df_data_filter[mapper[idx]][(df_data_filter['type de contrôle']=='soudure laser')]\n",
    "\n",
    "            df_data_filter.drop(df_data_filter.loc[:, \"type de contrôle\":\"IQR\"], inplace = True, axis = 1)\n",
    "\n",
    "            df_data_filter=df_data_filter.groupby(['Date','Palette','N° lot']).mean().reset_index()\n",
    "            df_data_filter = df_data_filter.drop(columns={\"Palette\",\n",
    "                                                            })\n",
    "\n",
    "            save_csv(df_data_filter,os.path.join(output_root,name))\n",
    "\n",
    "    \n",
    "        elif 'KeyenceAIAR' in file:\n",
    "            #df_data = pd.read_excel(file,sheet_name='Feuil1',header=2)\n",
    "            #df_data_filter=data_filter(df_data,['Étiquettes de lignes'])\n",
    "            df_data = pd.read_excel(file,sheet_name='database')\n",
    "            df_data_filter=data_filter(df_data,['Date'])\n",
    "            df_data_filter = df_data_filter.drop(columns = ['nb<0,1','Nom']).rename(columns={\"Date\":\"Date_keyence\",\n",
    "                                                            \"Numéro lot\": \"Numéro lot_keyence\",\n",
    "                                                            \"heure\":\"heure_keyence\"})\n",
    "            save_csv(df_data_filter,os.path.join(output_root,name))\n",
    "            \n",
    "        if 'Hauteur et rugosité' in file:\n",
    "            df_data = pd.read_excel(file,sheet_name = 'Data hauteur',header = 2)\n",
    "            df_data_filter=data_filter(df_data,['Date'])\n",
    "            df_data_filter = df_data_filter.drop(columns = ['Unnamed: 0', 'N° DL','Equipe','Nom']).rename(columns={\"Date\":\"Date_zone1\",\n",
    "                                                            \"Unnamed: 8\": \"AR2\",\n",
    "                                                            \"type\":\"Type_zone1\"})\n",
    "            save_csv(df_data_filter,os.path.join(output_root,name))\n",
    "\n",
    "        \n",
    "        print(f'Done handling {file} ...')\n",
    "print(\"Done..!\")\n",
    " \n",
    "    \n",
    "\n",
    "#print(df_hager_filter.info())\n",
    "#print(df_hager_filter.isnull().sum())\"\"\"\n"
   ]
  },
  {
   "cell_type": "markdown",
   "id": "36df36bc-31d5-4eb4-acaa-66255b14ff46",
   "metadata": {
    "jp-MarkdownHeadingCollapsed": true,
    "tags": []
   },
   "source": [
    "## TEST CELL"
   ]
  },
  {
   "cell_type": "code",
   "execution_count": 114,
   "id": "9ec1b650-4e61-49cc-a1e7-7cd42b1e8db7",
   "metadata": {},
   "outputs": [
    {
     "name": "stdout",
     "output_type": "stream",
     "text": [
      "Index(['Date', 'Palette', 'N° lot', 'type de contrôle', 'X1', 'X2', 'X3', 'X4',\n",
      "       'X5', 'X6', 'X7', 'X8', 'X9', 'X10', 'X11', 'X12', 'MOY', 'ET', 'X lcl',\n",
      "       'X ucl', 'R lcl', 'R ucl', 'Moyenne de la série', 'moyenne de l'étendu',\n",
      "       'mean', 'std', 'median', 'var', 'max', 'min', 'ETd', 'IQR'],\n",
      "      dtype='object')\n",
      "           Date Palette  N° lot  cote de 7_MOY  soudure US_MOY  \\\n",
      "0    2020-01-02  Chrome  6001.0       6.993083             NaN   \n",
      "1    2020-01-02  Chrome  6001.0            NaN        9.952083   \n",
      "2    2020-01-02  Chrome  6001.0            NaN             NaN   \n",
      "3    2020-01-02  Chrome  9999.0       6.983056             NaN   \n",
      "4    2020-01-02  Chrome  9999.0            NaN        9.802778   \n",
      "...         ...     ...     ...            ...             ...   \n",
      "8098 2021-12-07   hager  1419.0            NaN       10.337500   \n",
      "8099 2021-12-07   hager  1419.0            NaN             NaN   \n",
      "8100 2021-12-07   hager  1420.0       7.005250             NaN   \n",
      "8101 2021-12-07   hager  1420.0            NaN        9.095833   \n",
      "8102 2021-12-07   hager  1420.0            NaN             NaN   \n",
      "\n",
      "      soudure laser_MOY  cote de 7_ETd  soudure US_ETd  soudure laser_ETd  \\\n",
      "0                   NaN          0.093             NaN                NaN   \n",
      "1                   NaN            NaN        1.850000                NaN   \n",
      "2             96.141667            NaN             NaN              17.85   \n",
      "3                   NaN          0.043             NaN                NaN   \n",
      "4                   NaN            NaN        2.483333                NaN   \n",
      "...                 ...            ...             ...                ...   \n",
      "8098                NaN            NaN        2.100000                NaN   \n",
      "8099          93.641667            NaN             NaN               5.65   \n",
      "8100                NaN          0.089             NaN                NaN   \n",
      "8101                NaN            NaN        3.200000                NaN   \n",
      "8102          93.700000            NaN             NaN              11.05   \n",
      "\n",
      "      cote de 7_max  ...  soudure laser_E_T  cote de 7_Médiane  \\\n",
      "0          7.054000  ...                NaN           6.990000   \n",
      "1               NaN  ...                NaN                NaN   \n",
      "2               NaN  ...           6.126909                NaN   \n",
      "3          7.006333  ...                NaN           6.982667   \n",
      "4               NaN  ...                NaN                NaN   \n",
      "...             ...  ...                ...                ...   \n",
      "8098            NaN  ...                NaN                NaN   \n",
      "8099            NaN  ...           1.588286                NaN   \n",
      "8100       7.046000  ...                NaN           7.009500   \n",
      "8101            NaN  ...                NaN                NaN   \n",
      "8102            NaN  ...           2.996210                NaN   \n",
      "\n",
      "      soudure US_Médiane  soudure laser_Médiane  cote de 7_IQR  \\\n",
      "0                    NaN                    NaN       6.931404   \n",
      "1              10.062500                    NaN            NaN   \n",
      "2                    NaN                 95.700            NaN   \n",
      "3                    NaN                    NaN       6.954274   \n",
      "4               9.866667                    NaN            NaN   \n",
      "...                  ...                    ...            ...   \n",
      "8098           10.200000                    NaN            NaN   \n",
      "8099                 NaN                 93.775            NaN   \n",
      "8100                 NaN                    NaN       6.949069   \n",
      "8101            8.950000                    NaN            NaN   \n",
      "8102                 NaN                 93.200            NaN   \n",
      "\n",
      "      soudure US_IQR  soudure laser_IQR  cote de 7_Variance  \\\n",
      "0                NaN                NaN            0.000744   \n",
      "1           8.783646                NaN                 NaN   \n",
      "2                NaN          68.226326                 NaN   \n",
      "3                NaN                NaN            0.000201   \n",
      "4           8.164825                NaN                 NaN   \n",
      "...              ...                ...                 ...   \n",
      "8098        8.858964                NaN                 NaN   \n",
      "8099             NaN          89.622008                 NaN   \n",
      "8100             NaN                NaN            0.000762   \n",
      "8101        6.984757                NaN                 NaN   \n",
      "8102             NaN          83.436364                 NaN   \n",
      "\n",
      "      soudure US_Variance  soudure laser_Variance  \n",
      "0                     NaN                     NaN  \n",
      "1                0.356757                     NaN  \n",
      "2                     NaN               37.539015  \n",
      "3                     NaN                     NaN  \n",
      "4                0.733527                     NaN  \n",
      "...                   ...                     ...  \n",
      "8098             0.517784                     NaN  \n",
      "8099                  NaN                2.522652  \n",
      "8100                  NaN                     NaN  \n",
      "8101             0.767936                     NaN  \n",
      "8102                  NaN                8.977273  \n",
      "\n",
      "[8103 rows x 27 columns]\n"
     ]
    }
   ],
   "source": [
    "# -*- coding: utf-8 -*-\n",
    "\n",
    "filters_dict={'Ref Relais': ['0Z5117','0Z6117'], 'Année':[2020,2021] , 'Plage lot':[0,1000,6000], \n",
    "              'Moy Z':None , 'date zone 2':None, 'Date': pd.Timestamp(\"2020-01-01\")} \n",
    "\n",
    "def data_filter(df_data,filters):\n",
    "    df_data_filter=df_data\n",
    "    for key,val in filters_dict.items():\n",
    "        if key in filters:\n",
    "            if val is not None and type(val) is not pd.Timestamp :\n",
    "                df_data_filter=df_data_filter[(df_data_filter[key].isin(val))]\n",
    "            elif type(val) is pd.Timestamp:\n",
    "                df_data_filter=df_data_filter[(df_data_filter[key].astype('datetime64').dt.year>=2020)]\n",
    "            else: \n",
    "                df_data_filter=df_data_filter[(df_data_filter[key].notnull())]\n",
    "    #df_data_filter.info()\n",
    "    return df_data_filter\n",
    "#df_data = pd.read_excel(\"../database/database_lot/input/parametre Zone2 SE PAL.xlsx\", 'Data')\n",
    "#df_data_filter=data_filter(df_data,['Date'])\n",
    "\n",
    "\n",
    "\n",
    "df_stat=df_data_filter.loc[:,'X1':'X12'].agg(['mean','std','median','var','max','min'], axis=1)\n",
    "\n",
    "df_stat['ETd']=df_stat['max']-df_stat['min']\n",
    "df_stat['IQR']=df_stat.quantile(q=0.75,axis=1)-df_stat.quantile(q=0.25,axis=1)\n",
    "concat=pd.concat([df_data_filter,df_stat], axis=1)\n",
    "\n",
    "print(concat.columns)\n",
    "\n",
    "st_name=['MOY','ETd', 'max','min', 'E_T','Médiane','IQR','Variance']\n",
    "mapper=['mean','ETd', 'max','min', 'std','median','IQR','var']\n",
    "\n",
    "\n",
    "for idx,s_i in enumerate(st_name):\n",
    "    concat['cote de 7_'+s_i]=concat[mapper[idx]][(concat['type de contrôle']=='cote de 7')]\n",
    "    concat['soudure US_'+s_i]=concat[mapper[idx]][(concat['type de contrôle']=='soudure US')]\n",
    "    concat['soudure laser_'+s_i]=concat[mapper[idx]][(concat['type de contrôle']=='soudure laser')]\n",
    "\n",
    "concat.drop(concat.loc[:, \"type de contrôle\":\"IQR\"], inplace = True, axis = 1)\n",
    "\n",
    "concat=concat.groupby(['Date','Palette','N° lot']).mean().reset_index()\n",
    "\n",
    "concat.to_csv('../database/database_lot/input/aaaa.csv',index=False, decimal=',', encoding='‘utf-8-sig')\n"
   ]
  },
  {
   "cell_type": "markdown",
   "id": "75c7327d-105e-4683-9f51-3d74775f2512",
   "metadata": {
    "jp-MarkdownHeadingCollapsed": true,
    "tags": []
   },
   "source": [
    "## Download filtred-files"
   ]
  },
  {
   "cell_type": "code",
   "execution_count": 224,
   "id": "f08002d7-2ffe-4550-bf27-8f049d964354",
   "metadata": {},
   "outputs": [],
   "source": [
    "# impedance lot\n",
    "df_lot = pd.read_csv('../database/database_lot/output/Impédance par lot avec 2022.csv')\n",
    "#df_lot = pd.read_csv('../database/database_lot/output/Impédance par lot_1.csv')\n",
    "\n",
    "# Traçabilité lot\n",
    "df_trac = pd.read_csv('../database/database_lot/output/TracabiliteDesLots_2020_2022.csv')\n",
    "\n",
    "# measures (soudure laser / soudure US / cote de 7)\n",
    "df_measure = pd.read_csv('../database/database_lot/output/Contrôle SE palette avec 2022.csv',decimal=\",\")\n",
    "\n",
    "# Keyence\n",
    "df_keyence =pd.read_csv('../database/database_lot/output/paramètre Zone2 KeyenceAIAR.csv')\n",
    "\n",
    "# Hauteur et rugosité\n",
    "df_hauteur = pd.read_csv('../database/database_lot/output/paramètre Zone1 Hauteur et rugosité AR.csv')\n"
   ]
  },
  {
   "cell_type": "code",
   "execution_count": 125,
   "id": "9d673243-7b99-4d9b-9b9b-16f2431e87dd",
   "metadata": {},
   "outputs": [],
   "source": [
    "def df_info(new_df):\n",
    "    print(f' Datafram describtion {new_df.describe()}\\n \\n \\n')\n",
    "    print(f'Data fram info {new_df.info()}\\n \\n \\n')\n",
    "    print(f'Missing data infor  {new_df.isnull().sum()/new_df.isnull().count()}\\n \\n \\n')"
   ]
  },
  {
   "cell_type": "markdown",
   "id": "2c0d923f-e131-4645-83c3-bd601a4de20b",
   "metadata": {
    "jp-MarkdownHeadingCollapsed": true,
    "tags": []
   },
   "source": [
    "## Merge data"
   ]
  },
  {
   "cell_type": "code",
   "execution_count": 230,
   "id": "9018e1c1-50dc-4c99-a3df-5b135c5942ff",
   "metadata": {},
   "outputs": [
    {
     "name": "stdout",
     "output_type": "stream",
     "text": [
      " Datafram describtion             N° lot    Plage lot        EACAR        Année          NOK  \\\n",
      "count  1672.000000  1672.000000  1672.000000  1672.000000  1672.000000   \n",
      "mean   3629.442584  3361.842105     2.577751  2021.171053   105.275718   \n",
      "std    2779.145593  2708.022252     0.992459     0.376668    96.448812   \n",
      "min      11.000000     0.000000     1.000000  2021.000000     0.000000   \n",
      "25%    1055.000000  1000.000000     2.000000  2021.000000    39.000000   \n",
      "50%    6008.000000  6000.000000     2.000000  2021.000000    79.000000   \n",
      "75%    6311.000000  6000.000000     3.000000  2021.000000   141.000000   \n",
      "max    6853.000000  6000.000000     5.000000  2022.000000   962.000000   \n",
      "\n",
      "       cote de 7_MOY  soudure US_MOY  soudure laser_MOY  cote de 7_ETd  \\\n",
      "count    1388.000000     1412.000000        1345.000000    1388.000000   \n",
      "mean        7.009424       10.060381          84.045807       0.060589   \n",
      "std         0.021306        1.025681           8.323403       0.022118   \n",
      "min         6.936333        7.834722          53.176389       0.011000   \n",
      "25%         6.999000        9.291667          77.816667       0.045000   \n",
      "50%         7.007417       10.042361          84.850000       0.060000   \n",
      "75%         7.020417       10.733333          89.375000       0.076417   \n",
      "max         7.070500       12.883333         117.854167       0.121625   \n",
      "\n",
      "       soudure US_ETd  ...  soudure laser_E_T  cote de 7_Médiane  \\\n",
      "count     1412.000000  ...        1345.000000        1388.000000   \n",
      "mean         3.131527  ...           4.683483           7.008963   \n",
      "std          0.773146  ...           1.640647           0.022007   \n",
      "min          1.000000  ...           0.871628           6.932000   \n",
      "25%          2.600000  ...           3.578471           6.998312   \n",
      "50%          3.083333  ...           4.482838           7.006500   \n",
      "75%          3.650000  ...           5.575956           7.021313   \n",
      "max          6.950000  ...          12.362168           7.073500   \n",
      "\n",
      "       soudure US_Médiane  soudure laser_Médiane  cote de 7_IQR  \\\n",
      "count         1412.000000            1345.000000    1388.000000   \n",
      "mean            10.057292              83.897417       6.969399   \n",
      "std              1.095949               8.444714       0.025519   \n",
      "min              7.641667              53.033333       6.874549   \n",
      "25%              9.218490              77.700000       6.956977   \n",
      "50%              9.975000              84.700000       6.972951   \n",
      "75%             10.775000              89.550000       6.984514   \n",
      "max             13.450000             118.950000       7.045746   \n",
      "\n",
      "       soudure US_IQR  soudure laser_IQR  cote de 7_Variance  \\\n",
      "count     1412.000000        1345.000000         1388.000000   \n",
      "mean         7.942619          64.281380            0.000415   \n",
      "std          1.136651          12.489929            0.000287   \n",
      "min          4.798598          31.596960            0.000014   \n",
      "25%          7.177291          55.277472            0.000197   \n",
      "50%          7.871790          63.050085            0.000352   \n",
      "75%          8.655786          74.820540            0.000578   \n",
      "max         11.492484          94.535388            0.001947   \n",
      "\n",
      "       soudure US_Variance  soudure laser_Variance  \n",
      "count          1412.000000             1345.000000  \n",
      "mean              1.023532               24.954020  \n",
      "std               0.523060               18.974078  \n",
      "min               0.120208                0.759736  \n",
      "25%               0.656082               12.874400  \n",
      "50%               0.915014               20.212652  \n",
      "75%               1.273845               31.144242  \n",
      "max               3.987481              176.745742  \n",
      "\n",
      "[8 rows x 29 columns]\n",
      " \n",
      " \n",
      "\n",
      "<class 'pandas.core.frame.DataFrame'>\n",
      "Int64Index: 1672 entries, 0 to 1671\n",
      "Columns: 105 entries, N° lot to DFil2\n",
      "dtypes: float64(24), int64(5), object(76)\n",
      "memory usage: 1.4+ MB\n",
      "Data fram info None\n",
      " \n",
      " \n",
      "\n",
      "Missing data infor  N° lot        0.000000\n",
      "Plage lot     0.000000\n",
      "Ref Relais    0.000000\n",
      "Nb spires     0.000000\n",
      "EACAR         0.000000\n",
      "                ...   \n",
      "Support       0.398325\n",
      "Capot         0.403110\n",
      "Poussoir      0.403110\n",
      "DFil1         0.426435\n",
      "DFil2         0.851077\n",
      "Length: 105, dtype: float64\n",
      " \n",
      " \n",
      "\n"
     ]
    }
   ],
   "source": [
    "pd.set_option(\"display.max_row\",100)\n",
    "def data_merge() -> pd.DataFrame:\n",
    "\n",
    "    # Datetime\n",
    "    df_lot['Le'],df_lot['date zone 2'] = pd.to_datetime(df_lot['Le'],errors='coerce'), pd.to_datetime(df_lot['date zone 2'],errors='coerce')\n",
    "    df_trac['Date'],df_measure['Date'] = pd.to_datetime(df_trac['Date'],errors='coerce'), pd.to_datetime(df_measure['Date'],errors='coerce')\n",
    "    df_keyence['Date_keyence'],df_hauteur['Date_zone1'] = pd.to_datetime(df_keyence['Date_keyence'],errors='coerce'), pd.to_datetime(df_hauteur['Date_zone1'],errors='coerce')\n",
    "\n",
    "    df_lot['Le'],df_lot['date zone 2'] = df_lot['Le'].dt.strftime('%d/%m/%Y'),df_lot['date zone 2'].dt.strftime('%d/%m/%Y')\n",
    "    df_trac['Date'] =df_trac['Date'].dt.strftime('%d/%m/%Y')\n",
    "    df_measure['Date'] = df_measure['Date'].dt.strftime('%d/%m/%Y')\n",
    "    df_keyence['Date_keyence'] = df_keyence['Date_keyence'].dt.strftime('%d/%m/%Y')\n",
    "    df_hauteur['Date_zone1'] =df_hauteur['Date_zone1'].dt.strftime('%d/%m/%Y')\n",
    "    \n",
    "    # Eliminate Typing errors before merging on these columns\n",
    "    df_lot['Armature'] = df_lot['Armature'].str.replace('hager','Hager')\n",
    "    df_lot['Aimant'] = df_lot['Aimant'].str.replace('Magneti ','Magneti')\n",
    "    df_lot['Aimant'] = df_lot['Aimant'].str.replace('Kollektor ','Kolektor')\n",
    "    df_lot['Aimant'] = df_lot['Aimant'].str.replace('kolector ','Kolektor')\n",
    "    \n",
    "    \n",
    "    # Left outer join\n",
    "    new_df = pd.merge(df_lot,df_measure, how='left', left_on=['date zone 2','N° lot'], right_on = ['Date','N° lot'])\n",
    "    new_df = pd.merge(new_df,df_trac, how='left', left_on=['date zone 2','N° lot'], right_on = ['Date','N° lot'])\n",
    "    new_df.drop(columns =['Date_x', 'Date_y'])\n",
    "  \n",
    "    df_info(new_df)\n",
    "    new_df.to_csv(\"../database/database_lot/output/Merge_with_date.csv\",index=False, encoding='‘utf-8-sig')\n",
    "    return new_df\n",
    "df_merge=data_merge()"
   ]
  },
  {
   "cell_type": "markdown",
   "id": "b1c470e0-7fb8-46cd-8140-460afd47892a",
   "metadata": {
    "tags": []
   },
   "source": [
    "## Cleaning"
   ]
  },
  {
   "cell_type": "code",
   "execution_count": 262,
   "id": "746f2c8b-a77d-48e8-8818-7713f3f35524",
   "metadata": {},
   "outputs": [],
   "source": [
    " def generateSummary(df,path):\n",
    "        # Total missing\n",
    "        total_miss = df.isnull().sum()\n",
    "        # Missing precentage\n",
    "        perc_miss = total_miss/df.isnull().count()*100\n",
    "        # Type of columns\n",
    "        col_type = df.dtypes\n",
    "        # Unique values count\n",
    "        unique_count = df.nunique()\n",
    "        # Let's put all of this in a dataframe\n",
    "        df_summary = pd.DataFrame({'Total missing':total_miss, '% missing': perc_miss, 'Column type': col_type,'unique count': unique_count})\n",
    "        # Let's sort columns by the percentage of missing values\n",
    "        df_summary = df_summary.sort_values(by = '% missing',ascending = False)\n",
    "        # Let's save it into a csv file\n",
    "        df_summary.T.to_csv(path, encoding='‘utf-8-sig')\n",
    "        "
   ]
  },
  {
   "cell_type": "code",
   "execution_count": 264,
   "id": "050b4e30-b84b-4c23-a235-ea52b6b79f40",
   "metadata": {},
   "outputs": [
    {
     "name": "stderr",
     "output_type": "stream",
     "text": [
      "C:\\Users\\myedroud\\AppData\\Local\\Temp/ipykernel_8900/2683785436.py:15: FutureWarning: Automatic reindexing on DataFrame vs Series comparisons is deprecated and will raise ValueError in a future version.  Do `left, right = left.align(right, axis=1, copy=False)` before e.g. `left == right`\n",
      "  df_out =  df[~((df[cols] < (Q1 - 1.5 * IQR)) |(df[cols] > (Q3 + 1.5 * IQR))).any(axis=1)].reset_index()\n"
     ]
    }
   ],
   "source": [
    "def cleaning_percentil(df, col):\n",
    "    #df[\"Nb spires\"] = np.where(df[\"Nb spires\"] <2960.0, 2960.0,df['Nb spires'])\n",
    "    #df[\"Nb spires\"] = np.where(df[\"Nb spires\"] >12681.0, 12681.0,df['Nb spires'])\n",
    "    cols=['% de rebut global', 'ok', 'A', 'B', 'C', 'NOK', 'F1', 'F2', 'F3', 'F4', 'F7', 'Zmin', 'Zmax',\n",
    "    'Smin', 'Smax', 'Tmin', 'Tmax', 'Emin', 'Emax', 'Wmax','Dmin', 'Moy Sini', 'EC Sini', 'Eff Sini', \n",
    "    'Som Sini', 'Som Sini²', 'Moy Z', 'EC Z', 'Eff Zini', 'Som Zini', 'Som Zini²', 'Moy W', 'EC W', \n",
    "    'Eff W', 'Som W', 'Som W²', 'Moy cos j', 'EC cos j', 'Eff cos j', 'Som cos j', 'Som cos² j', \n",
    "    'Moy nb coups ajust', 'EC nb coups ajust', 'Eff nb cp', 'Som nb cp', 'Som nb cp²', 'Moy Udemag', \n",
    "    'EC Udemag', 'Eff Udemag', 'Som Udemag', 'Som Udemag²', 'N° DL armature',\n",
    "    'qu sortie SB', 'Armature_tracabilite', 'Palette_tracabilite', 'DFil1', 'DFil2']\n",
    "\n",
    "    Q1 = df.quantile(0.25)\n",
    "    Q3 = df.quantile(0.75)\n",
    "    IQR = Q3 - Q1\n",
    "    df_out =  df[~((df[cols] < (Q1 - 1.5 * IQR)) |(df[cols] > (Q3 + 1.5 * IQR))).any(axis=1)].reset_index()\n",
    "\n",
    "    return df_out\n",
    "def remove_Nan(df,perc):\n",
    "    \n",
    "    min_count =  int(((100-perc)/100)*df.shape[0] + 1)\n",
    "    df_out = df.dropna( axis=1, \n",
    "                thresh=min_count)\n",
    "    return df_out\n",
    "\n",
    "df_clean=cleaning_percentil(df_merge, [])\n",
    "generateSummary(df_merge,'../database/database_lot/output/stat_Merge.csv')\n",
    "df_clean= remove_Nan(df_clean,75)\n",
    "\n",
    "df_clean.to_csv(\"../database/database_lot/output/Merge_clean.csv\", index=False, encoding='‘utf-8-sig')\n",
    "df_clean.to_parquet(\"../database/database_lot/output/Merge_clean.gzip\", engine='pyarrow')\n",
    "\n",
    "generateSummary(df_clean,'../database/database_lot/output/stat_Merge_clean.csv')\n"
   ]
  },
  {
   "cell_type": "markdown",
   "id": "cd5789e4-d3fe-4197-85ad-1a69929a89bf",
   "metadata": {},
   "source": [
    "## Big base"
   ]
  },
  {
   "cell_type": "code",
   "execution_count": 265,
   "id": "c5802c34-4e13-48ea-a05b-249700f1805e",
   "metadata": {},
   "outputs": [
    {
     "name": "stderr",
     "output_type": "stream",
     "text": [
      "C:\\Users\\myedroud\\AppData\\Local\\Temp/ipykernel_8900/2717223738.py:16: FutureWarning: Automatic reindexing on DataFrame vs Series comparisons is deprecated and will raise ValueError in a future version.  Do `left, right = left.align(right, axis=1, copy=False)` before e.g. `left == right`\n",
      "  df_out =  df[~((df[cols] < (Q1 - 1.5 * IQR)) |(df[cols] > (Q3 + 1.5 * IQR))).any(axis=1)].reset_index()\n"
     ]
    }
   ],
   "source": [
    "def cleaning_percentil_all(df, col):\n",
    "    low=df['Nb spires'].quantile(0.10)\n",
    "    high=df['Nb spires'].quantile(0.9)\n",
    "    df[\"Nb spires\"] = np.where(df[\"Nb spires\"] < low, low,df['Nb spires'])\n",
    "    df[\"Nb spires\"] = np.where(df[\"Nb spires\"] > high, high,df['Nb spires'])\n",
    "    cols=['% de rebut global', 'ok', 'A', 'B', 'C', 'NOK', 'F1', 'F2', 'F3', 'F4', 'F7', 'Zmin', 'Zmax',\n",
    "    'Smin', 'Smax', 'Tmin', 'Tmax', 'Emin', 'Emax', 'Wmax','Dmin', 'Moy Sini', 'EC Sini', 'Eff Sini', \n",
    "    'Som Sini', 'Som Sini²', 'Moy Z', 'EC Z', 'Eff Zini', 'Som Zini', 'Som Zini²', 'Moy W', 'EC W', \n",
    "    'Eff W', 'Som W', 'Som W²', 'Moy cos j', 'EC cos j', 'Eff cos j', 'Som cos j', 'Som cos² j', \n",
    "    'Moy nb coups ajust', 'EC nb coups ajust', 'Eff nb cp', 'Som nb cp', 'Som nb cp²', 'Moy Udemag', \n",
    "    'EC Udemag', 'Eff Udemag', 'Som Udemag', 'Som Udemag²', 'N° DL armature']\n",
    "\n",
    "    Q1 = df_merge.quantile(0.25)\n",
    "    Q3 = df_merge.quantile(0.75)\n",
    "    IQR = Q3 - Q1\n",
    "    df_out =  df[~((df[cols] < (Q1 - 1.5 * IQR)) |(df[cols] > (Q3 + 1.5 * IQR))).any(axis=1)].reset_index()\n",
    "\n",
    "    return df_out\n",
    "\n",
    "df_data= pd.read_excel('../database/database_lot/input/Impédance par lot avec 2022.xlsx', \"Récapitulatif\")\n",
    "df_data_filter=data_filter(df_data,['Ref Relais','Plage lot', 'Moy Z'])\n",
    "\n",
    "df_data_filter = df_data_filter.drop(columns = ['Côte de 7','soudure US',\n",
    "                                                'Soudure Laser'])\n",
    "df_clean=cleaning_percentil_all(df_data_filter, [])\n",
    "df_clean= remove_Nan(df_clean,75)\n",
    "df_clean.to_csv(\"../database/database_lot/output/impédance_par_lot_clean.csv\", index=False, encoding='‘utf-8-sig')\n",
    "\n",
    "df_clean.to_parquet(\"../database/database_lot/output/impédance_par_lot_clean.gzip\", engine='pyarrow')\n",
    "\n",
    "generateSummary(df_clean,'../database/database_lot/output/stat_clean_impédance_par_lot.csv')"
   ]
  },
  {
   "cell_type": "code",
   "execution_count": null,
   "id": "86e56a32-fed3-4dbc-8af1-684fd8cae7c5",
   "metadata": {},
   "outputs": [],
   "source": []
  },
  {
   "cell_type": "code",
   "execution_count": 217,
   "id": "6c9f32e3-7f6e-40a6-bfd0-525a3aea634e",
   "metadata": {},
   "outputs": [
    {
     "name": "stdout",
     "output_type": "stream",
     "text": [
      "Collecting pyarrow\n",
      "  Downloading pyarrow-7.0.0-cp39-cp39-win_amd64.whl (16.1 MB)\n",
      "Requirement already satisfied: numpy>=1.16.6 in c:\\users\\myedroud\\anaconda3\\lib\\site-packages (from pyarrow) (1.20.3)\n",
      "Installing collected packages: pyarrow\n",
      "Successfully installed pyarrow-7.0.0\n"
     ]
    }
   ],
   "source": [
    "!pip install pyarrow"
   ]
  },
  {
   "cell_type": "code",
   "execution_count": 146,
   "id": "958d6042-5d6d-4ee2-8444-5a071eb74c1f",
   "metadata": {},
   "outputs": [
    {
     "name": "stdout",
     "output_type": "stream",
     "text": [
      "['N° lot', 'Plage lot', 'Ref Relais', 'Nb spires', 'EACAR', 'Année', 'Semaine', 'Le', '% de rebut global', 'ok', 'A', 'B', 'C', 'NOK', 'F1', 'F2', 'F3', 'F4', 'F7', 'Zmin', 'Zmax', 'Smin', 'Smax', 'Tmin', 'Tmax', 'Emin', 'Emax', 'Wmax', 'Dmin', 'Moy Sini', 'EC Sini', 'Eff Sini', 'Som Sini', 'Som Sini²', 'Moy Z', 'EC Z', 'Eff Zini', 'Som Zini', 'Som Zini²', 'Moy W', 'EC W', 'Eff W', 'Som W', 'Som W²', 'Moy cos j', 'EC cos j', 'Eff cos j', 'Som cos j', 'Som cos² j', 'Moy nb coups ajust', 'EC nb coups ajust', 'Eff nb cp', 'Som nb cp', 'Som nb cp²', 'Moy Udemag', 'EC Udemag', 'Eff Udemag', 'Som Udemag', 'Som Udemag²', 'Aimant', 'Armature', 'Palette', 'date zone 2', 'ressort', 'N° DL armature', 'C_tracabilite', 'Type_tracabilite', 'Date_tracabilite', 'Ligne', 'qu sortie SB', 'Armature_tracabilite', 'Rectif Arm', 'Palette_tracabilite', 'Rectif pal', 'Aimant__tracabilite', 'Type Aimant', 'Ressort', 'Carcasse', 'Socle', 'Support', 'Capot', 'Poussoir', 'DFil1', 'DFil2', 'Date_Se', 'Palette_Se', 'cote de 7_MOY', 'soudure US_MOY', 'soudure laser_MOY', 'cote de 7_ETd', 'soudure US_ETd', 'soudure laser_ETd', 'cote de 7_max', 'soudure US_max', 'soudure laser_max', 'cote de 7_min', 'soudure US_min', 'soudure laser_min', 'cote de 7_E_T', 'soudure US_E_T', 'soudure laser_E_T', 'cote de 7_Médiane', 'soudure US_Médiane', 'soudure laser_Médiane', 'cote de 7_IQR', 'soudure US_IQR', 'soudure laser_IQR', 'cote de 7_Variance', 'soudure US_Variance', 'soudure laser_Variance']\n"
     ]
    }
   ],
   "source": [
    "a=df_merge.columns.to_list()\n",
    "print(a)"
   ]
  },
  {
   "cell_type": "code",
   "execution_count": 390,
   "id": "48ac0f1f-ccd7-4fb1-9b6a-a8fe491b4c81",
   "metadata": {},
   "outputs": [
    {
     "name": "stdout",
     "output_type": "stream",
     "text": [
      " Datafram describtion             N° lot    Plage lot      Nb spires        EACAR        Année  \\\n",
      "count  5629.000000  5629.000000    5629.000000  5629.000000  5629.000000   \n",
      "mean   3486.020075  3195.061290    1226.499911     2.634038  2020.740274   \n",
      "std    2794.988896  2715.214926   17196.007527     1.012021     0.438523   \n",
      "min       1.000000     0.000000       0.000000     1.000000  2020.000000   \n",
      "25%    1086.000000  1000.000000     535.000000     2.000000  2020.000000   \n",
      "50%    1415.000000  1000.000000     535.000000     3.000000  2021.000000   \n",
      "75%    6379.000000  6000.000000     535.000000     4.000000  2021.000000   \n",
      "max    6740.000000  6000.000000  455335.000000     5.000000  2021.000000   \n",
      "\n",
      "       % de rebut global            ok            A             B  \\\n",
      "count        5629.000000   5629.000000  5629.000000   5629.000000   \n",
      "mean            0.046311   2525.441641   107.561556   2405.352283   \n",
      "std             0.047143   1946.367328   222.282494   1861.863715   \n",
      "min             0.000000      0.000000     0.000000      0.000000   \n",
      "25%             0.027498    983.000000    19.000000    941.000000   \n",
      "50%             0.038426   2102.000000    45.000000   2007.000000   \n",
      "75%             0.053994   3488.000000    99.000000   3335.000000   \n",
      "max             1.000000  11265.000000  2516.000000  10692.000000   \n",
      "\n",
      "                 C  ...          X11          X12          MOY           ET  \\\n",
      "count  5629.000000  ...  3606.000000  3606.000000  3606.000000  3606.000000   \n",
      "mean     12.510570  ...    27.111771    27.063377    27.192907     5.404868   \n",
      "std      52.537797  ...    32.681111    32.316542    32.405899     7.007954   \n",
      "min       0.000000  ...     5.900000     6.300000     6.675000     0.008000   \n",
      "25%       0.000000  ...     7.018000     7.020000     7.022917     0.078250   \n",
      "50%       1.000000  ...     9.225000     9.450000     9.641667     2.850000   \n",
      "75%       5.000000  ...    14.175000    13.950000    12.604167     6.837500   \n",
      "max    1075.000000  ...   119.900000   129.700000   113.179167    50.900000   \n",
      "\n",
      "             X lcl        X ucl   R lcl        R ucl  Moyenne de la série  \\\n",
      "count  3606.000000  3606.000000  3606.0  3606.000000          3606.000000   \n",
      "mean     20.655065    41.570753     0.0     9.213363            27.352250   \n",
      "std      23.017658    51.976151     0.0    11.268424            32.533424   \n",
      "min       6.903000     7.013000     0.0     0.070000             6.953773   \n",
      "25%       6.993000     7.086000     0.0     0.107000             7.019903   \n",
      "50%       7.500000    15.570000     0.0     4.810000             9.814700   \n",
      "75%       8.760000    16.240000     0.0     4.820000            11.916767   \n",
      "max      60.800000   139.200000     0.0    28.700000            96.633833   \n",
      "\n",
      "       moyenne de l'étendu  \n",
      "count          3606.000000  \n",
      "mean              5.516181  \n",
      "std               6.683023  \n",
      "min               0.027720  \n",
      "25%               0.069440  \n",
      "50%               2.906000  \n",
      "75%               4.776000  \n",
      "max              22.684000  \n",
      "\n",
      "[8 rows x 77 columns]\n",
      " \n",
      " \n",
      "\n",
      "<class 'pandas.core.frame.DataFrame'>\n",
      "Int64Index: 5629 entries, 0 to 5628\n",
      "Columns: 113 entries, N° lot to dérogation\n",
      "dtypes: datetime64[ns](4), float64(72), int64(5), object(32)\n",
      "memory usage: 4.9+ MB\n",
      "Data fram info None\n",
      " \n",
      " \n",
      "\n",
      "Missing data infor  N° lot                 0.000000\n",
      "Plage lot              0.000000\n",
      "Ref Relais             0.000000\n",
      "Nb spires              0.000000\n",
      "EACAR                  0.000000\n",
      "                         ...   \n",
      "Aspect                 0.611476\n",
      "Moyenne de la série    0.359389\n",
      "moyenne de l'étendu    0.359389\n",
      "info qualité           0.359389\n",
      "dérogation             0.990584\n",
      "Length: 113, dtype: float64\n",
      " \n",
      " \n",
      "\n"
     ]
    }
   ],
   "source": [
    "df_info(df_merge)"
   ]
  },
  {
   "cell_type": "code",
   "execution_count": 462,
   "id": "ffb0aac4-cf07-4e24-a41b-e8b6b2f53d4f",
   "metadata": {},
   "outputs": [
    {
     "name": "stdout",
     "output_type": "stream",
     "text": [
      "Series([], dtype: int64)\n",
      "      N° lot  Plage lot Ref Relais  Nb spires  EACAR  Année   Semaine  \\\n",
      "1033    1235       1000     0Z5117      535.0      2   2021  S2021/24   \n",
      "1034    1235       1000     0Z5117      535.0      2   2021  S2021/24   \n",
      "1035    1235       1000     0Z5117      535.0      4   2021  S2021/24   \n",
      "1036    1235       1000     0Z5117      535.0      4   2021  S2021/24   \n",
      "1472    1381       1000     0Z5117      535.0      3   2021  S2021/45   \n",
      "2901    6174       6000     0Z6117      525.0      3   2021  S2021/12   \n",
      "2902    6174       6000     0Z6117      525.0      3   2021  S2021/12   \n",
      "2903    6174       6000     0Z6117      525.0      3   2021  S2021/12   \n",
      "4540    6507       6000     0Z6117      535.0      1   2021  S2021/36   \n",
      "4541    6507       6000     0Z6117      535.0      1   2021  S2021/36   \n",
      "\n",
      "             Le  % de rebut global      ok  ...   X lcl    X ucl  R lcl  \\\n",
      "1033 2021-06-17           0.015811  4295.0  ...     NaN      NaN    NaN   \n",
      "1034 2021-06-18           0.014822  5384.0  ...     NaN      NaN    NaN   \n",
      "1035 2021-06-15           0.024194   121.0  ...     NaN      NaN    NaN   \n",
      "1036 2021-06-16           0.010668  4266.0  ...     NaN      NaN    NaN   \n",
      "1472 2021-12-11           0.055931   979.0  ...     NaN      NaN    NaN   \n",
      "2901 2021-03-23           0.026236   965.0  ...   6.903    7.086    0.0   \n",
      "2902 2021-03-23           0.026236   965.0  ...   7.500   15.570    0.0   \n",
      "2903 2021-03-23           0.026236   965.0  ...  60.800  139.200    0.0   \n",
      "4540 2021-10-09           0.021290  1609.0  ...     NaN      NaN    NaN   \n",
      "4541 2021-11-09           0.017555  2966.0  ...     NaN      NaN    NaN   \n",
      "\n",
      "       R ucl  Actions  Aspect  Moyenne de la série  moyenne de l'étendu  \\\n",
      "1033     NaN      NaN     NaN                  NaN                  NaN   \n",
      "1034     NaN      NaN     NaN                  NaN                  NaN   \n",
      "1035     NaN      NaN     NaN                  NaN                  NaN   \n",
      "1036     NaN      NaN     NaN                  NaN                  NaN   \n",
      "1472     NaN      NaN     NaN                  NaN                  NaN   \n",
      "2901   0.107      NaN     NaN             7.041183                0.054   \n",
      "2902   4.810      NaN   Autre             9.734483                3.188   \n",
      "2903  28.700      NaN  Normal            82.212500               16.394   \n",
      "4540     NaN      NaN     NaN                  NaN                  NaN   \n",
      "4541     NaN      NaN     NaN                  NaN                  NaN   \n",
      "\n",
      "      info qualité                       dérogation  \n",
      "1033           NaN                              NaN  \n",
      "1034           NaN                              NaN  \n",
      "1035           NaN                              NaN  \n",
      "1036           NaN                              NaN  \n",
      "1472           NaN                              NaN  \n",
      "2901      Conforme                              NaN  \n",
      "2902      Conforme  léger blanc d'œuf non débordant  \n",
      "2903      Conforme                              NaN  \n",
      "4540           NaN                              NaN  \n",
      "4541           NaN                              NaN  \n",
      "\n",
      "[10 rows x 113 columns]\n",
      "Int64Index([1033, 1034, 1035, 1036, 1472, 2901, 2902, 2903, 4540, 4541], dtype='int64')\n"
     ]
    }
   ],
   "source": [
    "test=df_merge.copy()\n",
    "test=test[(test.Palette.notnull())]\n",
    "test=test[(test['Rectif Arm'].notnull())]\n",
    "\n",
    "aaaaaa=test[(test['Rectif Arm']!=test['Armature'])]\n",
    "print(aaaaaa.value_counts())\n",
    "print(aaaaaa)\n",
    "print(aaaaaa[aaaaaa == False].index)\n",
    "\n"
   ]
  },
  {
   "cell_type": "code",
   "execution_count": 412,
   "id": "5c248da4-6dae-4b35-b0fa-bc3ffc7c30e5",
   "metadata": {},
   "outputs": [
    {
     "name": "stdout",
     "output_type": "stream",
     "text": [
      "283     True\n",
      "284     True\n",
      "285     True\n",
      "286     True\n",
      "287     True\n",
      "        ... \n",
      "5624    True\n",
      "5625    True\n",
      "5626    True\n",
      "5627    True\n",
      "5628    True\n",
      "Length: 3976, dtype: bool\n"
     ]
    }
   ],
   "source": [
    "print(aaaaaa)"
   ]
  },
  {
   "cell_type": "code",
   "execution_count": 259,
   "id": "ead50e4e-ae72-4332-a602-361c72d0b14e",
   "metadata": {},
   "outputs": [],
   "source": [
    "a=pd.read_csv(r'C:\\Users\\myedroud\\Documents\\Project Hager\\database\\database_piece\\input\\2020\\2020_01\\02\\Jour_Exportation_Reporting_2020_01_07012020.csv',sep=';')"
   ]
  },
  {
   "cell_type": "code",
   "execution_count": 261,
   "id": "b9d464d5-1ac7-4af3-9711-d649a59e8539",
   "metadata": {},
   "outputs": [
    {
     "name": "stdout",
     "output_type": "stream",
     "text": [
      "['DATEENR', 'NUMERO', 'NUM_MACHINE', 'REFERENCE', 'CLASSE', 'COURANT_C1', 'COURANT_C10', 'COURANT_C11', 'COURANT_C12', 'COURANT_C13', 'COURANT_C14', 'COURANT_C15', 'COURANT_C16', 'COURANT_C17', 'COURANT_C18', 'COURANT_C19', 'COURANT_C2', 'COURANT_C20', 'COURANT_C3', 'COURANT_C4', 'COURANT_C5', 'COURANT_C6', 'COURANT_C7', 'COURANT_C8', 'COURANT_C9', 'COURANT_J1', 'COURANT_J10', 'COURANT_J2', 'COURANT_J3', 'COURANT_J4', 'COURANT_J5', 'COURANT_J6', 'COURANT_J7', 'COURANT_J8', 'COURANT_J9', 'COURANT_STAB1', 'COURANT_STAB2', 'DEFAUT', 'MODE', 'NOMBRE_SPIRE_REEL', 'NUMERO_BASSINE', 'NUMERO_LIGNE', 'NUMERO_LOT', 'NUMERO_PALETTE', 'NUMERO_PIECE', 'NUMERO_STATION_AJUSTAGE', 'NB_PASSAGES', 'PHI_C1', 'PHI_C10', 'PHI_C11', 'PHI_C12', 'PHI_C13', 'PHI_C14', 'PHI_C15', 'PHI_C16', 'PHI_C17', 'PHI_C18', 'PHI_C19', 'PHI_C2', 'PHI_C20', 'PHI_C3', 'PHI_C4', 'PHI_C5', 'PHI_C6', 'PHI_C7', 'PHI_C8', 'PHI_C9', 'RESULTAJUST', 'RESULTCTRL', 'TEMPSAJUST', 'TEMPSCTRL', 'TENSION_C1', 'TENSION_C10', 'TENSION_C11', 'TENSION_C12', 'TENSION_C13', 'TENSION_C14', 'TENSION_C15', 'TENSION_C16', 'TENSION_C17', 'TENSION_C18', 'TENSION_C19', 'TENSION_C2', 'TENSION_C20', 'TENSION_C3', 'TENSION_C4', 'TENSION_C5', 'TENSION_C6', 'TENSION_C7', 'TENSION_C8', 'TENSION_C9', 'TENSION_J1', 'TENSION_J10', 'TENSION_J2', 'TENSION_J3', 'TENSION_J4', 'TENSION_J5', 'TENSION_J6', 'TENSION_J7', 'TENSION_J8', 'TENSION_J9', 'TENSION_STAB1', 'TENSION_STAB2', 'UDEMAG_J1', 'UDEMAG_J10', 'UDEMAG_J2', 'UDEMAG_J3', 'UDEMAG_J4', 'UDEMAG_J5', 'UDEMAG_J6', 'UDEMAG_J7', 'UDEMAG_J8', 'UDEMAG_J9', 'NUMERO_AXE_ETAMAGE']\n"
     ]
    }
   ],
   "source": [
    "print(a.columns.tolist())\n"
   ]
  },
  {
   "cell_type": "code",
   "execution_count": null,
   "id": "0b03394f-bc2e-41cc-8181-6a0529abd5cb",
   "metadata": {},
   "outputs": [],
   "source": []
  }
 ],
 "metadata": {
  "kernelspec": {
   "display_name": "Python 3 (ipykernel)",
   "language": "python",
   "name": "python3"
  },
  "language_info": {
   "codemirror_mode": {
    "name": "ipython",
    "version": 3
   },
   "file_extension": ".py",
   "mimetype": "text/x-python",
   "name": "python",
   "nbconvert_exporter": "python",
   "pygments_lexer": "ipython3",
   "version": "3.9.7"
  }
 },
 "nbformat": 4,
 "nbformat_minor": 5
}
